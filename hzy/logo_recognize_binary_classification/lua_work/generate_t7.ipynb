{
 "cells": [
  {
   "cell_type": "code",
   "execution_count": null,
   "metadata": {
    "collapsed": false,
    "scrolled": true
   },
   "outputs": [],
   "source": [
    "require 'image';\n",
    "require 'xlua'\n",
    "Imgs = {\n",
    "    data = torch.Tensor(4096, 3, 256, 256):zero():float(),\n",
    "    labels = torch.Tensor(4096),\n",
    "    size = function() return trsize end\n",
    "}\n",
    "file = io.open('/root/dl-data/dataset/combinefile.txt', 'r')\n",
    "fun=function()  \n",
    "    img1 = image.load(imgAnchor);\n",
    "    Imgs.data[count] = image.scale(img1, 256, 256):float()\n",
    "    Imgs.labels[count] = label\n",
    "end  \n",
    "tryCatch=function(fun)  --异常检测\n",
    "    ret,errMessage=pcall(fun);\n",
    "    return ret,errMessage\n",
    "end  \n",
    "if file then\n",
    "    count = 1\n",
    "    raw = 1\n",
    "    for line in file:lines() do\n",
    "        print(count)\n",
    "        repeat\n",
    "            print(raw)\n",
    "            if raw < 73729 then  --控制从文件第几行开始读路径\n",
    "                raw = raw + 1\n",
    "                break\n",
    "            end\n",
    "            if count > 4096 then   --制作每个t7大小4096*3*256*256\n",
    "                break\n",
    "            end\n",
    "            xlua.progress(count, 4096)\n",
    "            imgAnchor = string.sub(line,1,-3)\n",
    "            print(imgAnchor)\n",
    "            label = string.sub(line,-1)\n",
    "            a,b = tryCatch(fun);\n",
    "            if a == true then \n",
    "                print(imgAnchor)\n",
    "                count = count + 1\n",
    "            else\n",
    "                print('no')\n",
    "            end\n",
    "        until true\n",
    "    end\n",
    "else\n",
    "    print('File do not exists!')   \n",
    "end\n",
    "torch.save('/root/dl-data/dataset/logo_t7file/logo19.t7', Imgs)"
   ]
  },
  {
   "cell_type": "code",
   "execution_count": null,
   "metadata": {
    "collapsed": false
   },
   "outputs": [],
   "source": [
    "trainset = torch.load('/root/dl-data/dataset/logo_t7file/logo18.t7')\n",
    "trainset.data:size()\n",
    "trainset.data[1000]"
   ]
  }
 ],
 "metadata": {
  "anaconda-cloud": {},
  "kernelspec": {
   "display_name": "iTorch",
   "language": "lua",
   "name": "itorch"
  },
  "language_info": {
   "name": "lua",
   "version": "5.1"
  }
 },
 "nbformat": 4,
 "nbformat_minor": 0
}
