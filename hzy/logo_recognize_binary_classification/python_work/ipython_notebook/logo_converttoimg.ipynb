{
 "cells": [
  {
   "cell_type": "code",
   "execution_count": 16,
   "metadata": {
    "collapsed": false
   },
   "outputs": [
    {
     "name": "stderr",
     "output_type": "stream",
     "text": [
      "<ipython-input-16-6d6e47fe2eb1>:36: SyntaxWarning: name 'file_paths' is assigned to before global declaration\n",
      "  global file_paths,data_sets\n",
      "<ipython-input-16-6d6e47fe2eb1>:36: SyntaxWarning: name 'data_sets' is assigned to before global declaration\n",
      "  global file_paths,data_sets\n"
     ]
    },
    {
     "name": "stdout",
     "output_type": "stream",
     "text": [
      "image convert Down!\n",
      "path_file generate\n"
     ]
    }
   ],
   "source": [
    "# -*- coding: utf-8 -*-\n",
    "\"\"\"\n",
    "Created on Thu Sep 22 09:36:56 2016\n",
    "\n",
    "@author: mac\n",
    "\"\"\"\n",
    "import imghdr\n",
    "import os\n",
    "#写出到文件\n",
    "def writepathtotxt(data_sets):\n",
    "    txt_path = '/root/dl-data/imagenet_path.txt'\n",
    "    with open(txt_path,\"w\") as f:\n",
    "        for data_set in data_sets:\n",
    "            f.write(data_set)\n",
    "            f.write('\\n')\n",
    "#遍历获取文件夹下的文件路径\n",
    "def processDirectory (args,dirname,filenames):\n",
    "    for filename in filenames:\n",
    "        if filename == '.DS_Store':\n",
    "            continue\n",
    "        else:\n",
    "            file_paths.append(dirname + '/' + filename)\n",
    "#文件类型convert2jpeg\n",
    "def converttoimg(imgType,imgpath):\n",
    "    if imgType == 'png':\n",
    "        order = 'convert ' +  imgpath + ' ' + imgpath[:-4] + 'JPEG'      \n",
    "        os.system(order)\n",
    "        if file_path[-4:] == 'JPEG':        \n",
    "            data_sets.append(file_path)\n",
    "    elif imgType == 'tiff':\n",
    "        order = 'convert ' +  imgpath + ' ' + imgpath[:-4] + 'JPEG'      \n",
    "        os.system(order)\n",
    "        if file_path[-4:] == 'JPEG':\n",
    "            data_sets.append(file_path)\n",
    "if __name__ == \"__main__\":\n",
    "    file_paths = []\n",
    "    data_sets = []#成功转成jpg格式的图片路径\n",
    "    global file_paths,data_sets\n",
    "    os.path.walk(r'/root/dl-data/imagenetphoto2', processDirectory, None )\n",
    "    for file_path in file_paths:   \n",
    "        try:\n",
    "            imgType = imghdr.what(file_path)#获取图片格式\n",
    "            if imgType == 'png' or imgType == 'tiff':     \n",
    "                converttoimg(imgType,file_path)\n",
    "            if imgType == 'jpeg' and file_path[-4:] == 'JPEG':\n",
    "                data_sets.append(file_path)\n",
    "        except:\n",
    "            continue\n",
    "    print \"image convert Down!\"\n",
    "    writepathtotxt(data_sets)\n",
    "    print \"path_file generate\""
   ]
  },
  {
   "cell_type": "code",
   "execution_count": null,
   "metadata": {
    "collapsed": true
   },
   "outputs": [],
   "source": []
  }
 ],
 "metadata": {
  "anaconda-cloud": {},
  "kernelspec": {
   "display_name": "Python [Root]",
   "language": "python",
   "name": "Python [Root]"
  },
  "language_info": {
   "codemirror_mode": {
    "name": "ipython",
    "version": 2
   },
   "file_extension": ".py",
   "mimetype": "text/x-python",
   "name": "python",
   "nbconvert_exporter": "python",
   "pygments_lexer": "ipython2",
   "version": "2.7.12"
  }
 },
 "nbformat": 4,
 "nbformat_minor": 0
}
