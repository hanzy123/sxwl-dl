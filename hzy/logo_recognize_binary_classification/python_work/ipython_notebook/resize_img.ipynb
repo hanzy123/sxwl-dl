{
 "cells": [
  {
   "cell_type": "code",
   "execution_count": null,
   "metadata": {
    "collapsed": true
   },
   "outputs": [],
   "source": [
    "# -*- coding: utf-8 -*-\n",
    "\"\"\"\n",
    "Created on Sun Sep 25 18:35:32 2016\n",
    "\n",
    "@author: mac\n",
    "\"\"\"\n",
    "#修改路径下图片大小\n",
    "from PIL import Image   \n",
    "    \n",
    "count = 1\n",
    "f = open(\"/root/dl-data/logo_pathforsxw1080.txt\", \"r\")  \n",
    "while True: \n",
    "    line = f.readline()  \n",
    "    line = line[:-1]  \n",
    "    if count<10000:\n",
    "        count = count +1\n",
    "        continue\n",
    "    if line: \n",
    "        if count>16000:\n",
    "            break\n",
    "        img = Image.open(line)\n",
    "        try:\n",
    "            new_img = img.resize((256,256),Image.BILINEAR)\n",
    "            count = count +1\n",
    "            new_img.save(line)\n",
    "            print(\"deal \" + line + \"    \" + str(count))\n",
    "        except:\n",
    "            continue\n",
    "    else:  \n",
    "        break\n",
    "f.close()"
   ]
  },
  {
   "cell_type": "code",
   "execution_count": 5,
   "metadata": {
    "collapsed": false
   },
   "outputs": [],
   "source": [
    "f = open(\"/Users/mac/logo_detection/sxwl_logo_detection2/target_area.txt\", \"r\")\n",
    "info2 = []\n",
    "while True:\n",
    "    info = f.readline()\n",
    "    info = info[:-1]\n",
    "    if info:\n",
    "        idcode = info.split(' ')[0]\n",
    "        name = info.split(' ')[1]\n",
    "        x1 = info.split(' ')[2]\n",
    "        y1 = info.split(' ')[3]\n",
    "        lenth = info.split(' ')[4]\n",
    "        weigh = info.split(' ')[5]\n",
    "        x2 = str(int(x1) + int(lenth))\n",
    "        y2 = str(int(y1) + int(weigh))\n",
    "        info2.append(idcode + ' ' + name + ' ' + x1 + ' ' + y1 + ' ' + x2 + ' ' + y2)\n",
    "    else:\n",
    "        break"
   ]
  },
  {
   "cell_type": "code",
   "execution_count": 7,
   "metadata": {
    "collapsed": false
   },
   "outputs": [],
   "source": [
    "def writepathtotxt(data_sets):\n",
    "    txt_path = '/Users/mac/logo_detection/sxwl_logo_detection2/target_area.txt'\n",
    "    with open(txt_path,\"w\") as f:\n",
    "        for data_set in data_sets:\n",
    "            f.write(data_set)\n",
    "            f.write('\\n')\n",
    "writepathtotxt(info2)"
   ]
  },
  {
   "cell_type": "code",
   "execution_count": null,
   "metadata": {
    "collapsed": true
   },
   "outputs": [],
   "source": []
  }
 ],
 "metadata": {
  "anaconda-cloud": {},
  "kernelspec": {
   "display_name": "Python [Root]",
   "language": "python",
   "name": "Python [Root]"
  },
  "language_info": {
   "codemirror_mode": {
    "name": "ipython",
    "version": 2
   },
   "file_extension": ".py",
   "mimetype": "text/x-python",
   "name": "python",
   "nbconvert_exporter": "python",
   "pygments_lexer": "ipython2",
   "version": "2.7.12"
  }
 },
 "nbformat": 4,
 "nbformat_minor": 0
}
