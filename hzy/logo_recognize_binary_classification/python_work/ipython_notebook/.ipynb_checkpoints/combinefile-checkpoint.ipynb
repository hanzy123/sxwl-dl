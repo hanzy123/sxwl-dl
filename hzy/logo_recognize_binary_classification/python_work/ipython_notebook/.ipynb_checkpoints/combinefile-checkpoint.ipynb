{
 "cells": [
  {
   "cell_type": "code",
   "execution_count": null,
   "metadata": {
    "collapsed": true
   },
   "outputs": [],
   "source": [
    "# -*- coding: utf-8 -*-\n",
    "\"\"\"\n",
    "Created on Tue Sep 27 20:04:10 2016\n",
    "前两个脚本把正例和负例放入相同文件夹，最后一个脚本生成txt路径目录\n",
    "@author: mac\n",
    "\"\"\"\n",
    "import os\n",
    "f = open(\"/root/dl-data/logo_pathforsxw1080.txt\", \"r\") \n",
    "a = []\n",
    "while True: \n",
    "    line = f.readline()  \n",
    "    line = line[:-1] \n",
    "    if line: \n",
    "        a.append(line)\n",
    "        order = 'scp ' +  line + ' /root/dl-data/dataset/image/' + line.split('/')[-2] + line.split('/')[-1]\n",
    "        os.system(order)\n",
    "    else:  \n",
    "        break\n",
    "f.close()"
   ]
  },
  {
   "cell_type": "code",
   "execution_count": null,
   "metadata": {
    "collapsed": false
   },
   "outputs": [],
   "source": [
    "import os\n",
    "f = open(\"/root/dl-data/imagenet_path.txt\", \"r\") \n",
    "a = []\n",
    "while True: \n",
    "    line = f.readline()  \n",
    "    line = line[:-1] \n",
    "    if line: \n",
    "        a.append(line)\n",
    "        order = 'scp ' +  line + ' /root/dl-data/dataset/image/' + line.split('/')[-1]\n",
    "        os.system(order)\n",
    "    else:  \n",
    "        break\n",
    "f.close()"
   ]
  },
  {
   "cell_type": "code",
   "execution_count": null,
   "metadata": {
    "collapsed": false
   },
   "outputs": [],
   "source": [
    "import os\n",
    "def writepathtotxt(data_sets):\n",
    "    txt_path = '/root/dl-data/dataset/combinefile.txt'\n",
    "    with open(txt_path,\"w\") as f:\n",
    "        for data_set in data_sets:\n",
    "            f.write(data_set)\n",
    "            f.write('\\n')\n",
    "def processDirectory (args,dirname,filenames):\n",
    "    for filename in filenames:\n",
    "        if filename[-3:] == 'PEG':\n",
    "            file_paths.append('/root/dl-data/dataset/image/'  + filename + ' 0')\n",
    "        else:\n",
    "            file_paths.append('/root/dl-data/dataset/image/'  + filename + ' 1')\n",
    "if __name__ == \"__main__\":\n",
    "    file_paths = []\n",
    "    global file_paths\n",
    "    os.path.walk(r'/root/dl-data/dataset/image/', processDirectory, None )\n",
    "    writepathtotxt(file_paths)\n",
    "    print 'done!'"
   ]
  },
  {
   "cell_type": "code",
   "execution_count": null,
   "metadata": {
    "collapsed": false
   },
   "outputs": [],
   "source": [
    "file_paths[4][-3:]"
   ]
  },
  {
   "cell_type": "code",
   "execution_count": null,
   "metadata": {
    "collapsed": false
   },
   "outputs": [],
   "source": [
    "from PIL import Image\n",
    "\n",
    "def main():\n",
    "    filename = '/Users//'\n",
    "    img = Image.open(filename)\n",
    "    imgSize = img.size #图片的长和宽\n",
    "    print imgSize\n",
    "    maxSize = max(imgSize) #图片的长边\n",
    "    print maxSize\n",
    "    minSize = min(imgSize) #图片的短边\n",
    "    print minSize\n",
    "\n",
    "if __name__ == '__main__':\n",
    "    main()"
   ]
  }
 ],
 "metadata": {
  "anaconda-cloud": {},
  "kernelspec": {
   "display_name": "Python [Root]",
   "language": "python",
   "name": "Python [Root]"
  },
  "language_info": {
   "codemirror_mode": {
    "name": "ipython",
    "version": 2
   },
   "file_extension": ".py",
   "mimetype": "text/x-python",
   "name": "python",
   "nbconvert_exporter": "python",
   "pygments_lexer": "ipython2",
   "version": "2.7.12"
  }
 },
 "nbformat": 4,
 "nbformat_minor": 0
}
