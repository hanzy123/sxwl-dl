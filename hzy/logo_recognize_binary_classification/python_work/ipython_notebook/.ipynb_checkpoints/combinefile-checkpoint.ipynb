{
 "cells": [
  {
   "cell_type": "code",
   "execution_count": 13,
   "metadata": {
    "collapsed": true
   },
   "outputs": [],
   "source": [
    "# -*- coding: utf-8 -*-\n",
    "\"\"\"\n",
    "Created on Tue Sep 27 20:04:10 2016\n",
    "前两个脚本把正例和负例放入相同文件夹，最后一个脚本生成txt路径目录\n",
    "@author: mac\n",
    "\"\"\"\n",
    "import os\n",
    "f = open(\"/root/dl-data/logo_pathforsxw1080.txt\", \"r\") \n",
    "a = []\n",
    "while True: \n",
    "    line = f.readline()  \n",
    "    line = line[:-1] \n",
    "    if line: \n",
    "        a.append(line)\n",
    "        order = 'scp ' +  line + ' /root/dl-data/dataset/image/' + line.split('/')[-2] + line.split('/')[-1]\n",
    "        os.system(order)\n",
    "    else:  \n",
    "        break\n",
    "f.close()"
   ]
  },
  {
   "cell_type": "code",
   "execution_count": 10,
   "metadata": {
    "collapsed": false
   },
   "outputs": [
    {
     "data": {
      "text/plain": [
       "'dota2logo1.jpg'"
      ]
     },
     "execution_count": 10,
     "metadata": {},
     "output_type": "execute_result"
    }
   ],
   "source": [
    "a[1].split('/')[-2] + a[1].split('/')[-1] "
   ]
  },
  {
   "cell_type": "code",
   "execution_count": 19,
   "metadata": {
    "collapsed": false
   },
   "outputs": [],
   "source": [
    "import os\n",
    "f = open(\"/root/dl-data/imagenet_path.txt\", \"r\") \n",
    "a = []\n",
    "while True: \n",
    "    line = f.readline()  \n",
    "    line = line[:-1] \n",
    "    if line: \n",
    "        a.append(line)\n",
    "        order = 'scp ' +  line + ' /root/dl-data/dataset/image/' + line.split('/')[-1]\n",
    "        os.system(order)\n",
    "    else:  \n",
    "        break\n",
    "f.close()"
   ]
  },
  {
   "cell_type": "code",
   "execution_count": 16,
   "metadata": {
    "collapsed": false
   },
   "outputs": [
    {
     "data": {
      "text/plain": [
       "'n00480366_1122.JPEG'"
      ]
     },
     "execution_count": 16,
     "metadata": {},
     "output_type": "execute_result"
    }
   ],
   "source": [
    "a[1].split('/')[-1]"
   ]
  },
  {
   "cell_type": "code",
   "execution_count": 18,
   "metadata": {
    "collapsed": false
   },
   "outputs": [
    {
     "data": {
      "text/plain": [
       "'scp /root/dl-data/imagenetphoto2/n00448748_4828.JPEG /root/dl-data/dataset/image/n00448748_4828.JPEG'"
      ]
     },
     "execution_count": 18,
     "metadata": {},
     "output_type": "execute_result"
    }
   ],
   "source": [
    "order"
   ]
  },
  {
   "cell_type": "code",
   "execution_count": null,
   "metadata": {
    "collapsed": true
   },
   "outputs": [],
   "source": []
  }
 ],
 "metadata": {
  "kernelspec": {
   "display_name": "Python 2",
   "language": "python",
   "name": "python2"
  },
  "language_info": {
   "codemirror_mode": {
    "name": "ipython",
    "version": 2
   },
   "file_extension": ".py",
   "mimetype": "text/x-python",
   "name": "python",
   "nbconvert_exporter": "python",
   "pygments_lexer": "ipython2",
   "version": "2.7.6"
  }
 },
 "nbformat": 4,
 "nbformat_minor": 0
}
