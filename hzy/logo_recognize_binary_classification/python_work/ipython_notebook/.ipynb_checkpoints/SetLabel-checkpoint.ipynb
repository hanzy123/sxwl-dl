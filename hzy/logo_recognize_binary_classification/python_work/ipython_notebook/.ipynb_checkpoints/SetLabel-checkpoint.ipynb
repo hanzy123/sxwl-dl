{
 "cells": [
  {
   "cell_type": "code",
   "execution_count": 36,
   "metadata": {
    "collapsed": false
   },
   "outputs": [],
   "source": [
    "# -*- coding: utf-8 -*-\n",
    "\"\"\"\n",
    "Created on Sun Sep 25 18:35:32 2016\n",
    "打散目录，正负样本合并\n",
    "@author: mac\n",
    "\"\"\"\n",
    "import random\n",
    "\n",
    "def writepathtotxt(data_sets):\n",
    "    txt_path = '/root/dl-data/dataset/dataset.txt'\n",
    "    with open(txt_path,\"w\") as f:\n",
    "        for data_set in data_sets:\n",
    "            f.write(data_set)\n",
    "            f.write('\\n')\n",
    "if __name__ == \"__main__\":\n",
    "    data_path = []\n",
    "    f = open(\"/root/dl-data/logo_pathforsxw1080.txt\", \"r\")\n",
    "    f2 = open(\"/root/dl-data/imagenet_path.txt\", \"r\")\n",
    "    positivepath = f.readline();positivepath = positivepath[:-1]\n",
    "    negativepath = f2.readline();negativepath = negativepath[:-1]\n",
    "    while True:\n",
    "        p = random.random()\n",
    "        if not positivepath and not negativepath:\n",
    "            break\n",
    "        elif p <= 16000.0/(55000+16000):\n",
    "            if positivepath:\n",
    "                data_path.append(positivepath + \" 1\" )\n",
    "                positivepath = f.readline();positivepath = positivepath[:-1]\n",
    "            else:\n",
    "                data_path.append(negativepath + \" 0\")\n",
    "                negativepath = f2.readline();negativepath = negativepath[:-1]\n",
    "        elif p > 16000.0/(55000+16000):\n",
    "            if negativepath:\n",
    "                data_path.append(negativepath + \" 0\")\n",
    "                negativepath = f2.readline();negativepath = negativepath[:-1]\n",
    "            else:\n",
    "                data_path.append(positivepath + \" 1\")\n",
    "                positivepath = f.readline();positivepath = positivepath[:-1]\n",
    "    for path in data_path:\n",
    "        index = random.randint(1,72517)\n",
    "        middle_path = data_path[index]\n",
    "        data_path[index] = path\n",
    "        path = middle_path\n",
    "    writepathtotxt(data_path)"
   ]
  },
  {
   "cell_type": "code",
   "execution_count": 32,
   "metadata": {
    "collapsed": false
   },
   "outputs": [
    {
     "data": {
      "text/plain": [
       "(72517,)"
      ]
     },
     "execution_count": 32,
     "metadata": {},
     "output_type": "execute_result"
    }
   ],
   "source": [
    "import numpy\n",
    "numpy.shape(data_path)"
   ]
  },
  {
   "cell_type": "code",
   "execution_count": 34,
   "metadata": {
    "collapsed": false
   },
   "outputs": [
    {
     "data": {
      "text/plain": [
       "28243"
      ]
     },
     "execution_count": 34,
     "metadata": {},
     "output_type": "execute_result"
    }
   ],
   "source": [
    "random.randint(1,72517)"
   ]
  },
  {
   "cell_type": "code",
   "execution_count": null,
   "metadata": {
    "collapsed": true
   },
   "outputs": [],
   "source": []
  }
 ],
 "metadata": {
  "kernelspec": {
   "display_name": "Python 2",
   "language": "python",
   "name": "python2"
  },
  "language_info": {
   "codemirror_mode": {
    "name": "ipython",
    "version": 2
   },
   "file_extension": ".py",
   "mimetype": "text/x-python",
   "name": "python",
   "nbconvert_exporter": "python",
   "pygments_lexer": "ipython2",
   "version": "2.7.6"
  }
 },
 "nbformat": 4,
 "nbformat_minor": 0
}
